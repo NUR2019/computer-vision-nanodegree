{
 "cells": [
  {
   "cell_type": "code",
   "execution_count": 16,
   "metadata": {},
   "outputs": [],
   "source": [
    "%matplotlib inline\n",
    "\n",
    "import cv2\n",
    "import matplotlib.pyplot as plt\n",
    "import glob\n",
    "import os\n",
    "import pandas as pd\n",
    "import numpy as np\n",
    "import time\n",
    "import shutil\n",
    "\n",
    "# Set the parameters of the ORB algorithm by specifying the maximum number of keypoints to locate and\n",
    "# the pyramid decimation ratio\n",
    "orb = cv2.ORB_create(5000, 2)\n",
    "\n",
    "# Create a Brute Force Matcher object. We set crossCheck to True so that the BFMatcher will only return consistent\n",
    "# pairs. Such technique usually produces best results with minimal number of outliers when there are enough matches.\n",
    "bf = cv2.BFMatcher(cv2.NORM_HAMMING, crossCheck = True)\n",
    "\n",
    "# load in a haar cascade classifier for detecting frontal faces\n",
    "face_cascade = cv2.CascadeClassifier('haarcascade_frontalface_default.xml')"
   ]
  },
  {
   "cell_type": "code",
   "execution_count": 17,
   "metadata": {},
   "outputs": [],
   "source": [
    "def log_message(message):\n",
    "  with open('output_haar_1.txt', 'a', encoding='utf-8') as f:\n",
    "    f.write(message)\n",
    "    f.write('\\n')"
   ]
  },
  {
   "cell_type": "code",
   "execution_count": 24,
   "metadata": {},
   "outputs": [
    {
     "name": "stdout",
     "output_type": "stream",
     "text": [
      "Length of Training Images : 0\n",
      "Trainging images Dataframe Shape : (0, 4)\n",
      "Time taken to build Training Image : 0.0002765655517578125\n"
     ]
    }
   ],
   "source": [
    "training_images_path = glob.glob('./ReferenceImages/**/*.*',recursive=True)\n",
    "print(\"Length of Training Images : {}\".format(len(training_images_path)))\n",
    "log_message(\"Length of Training Images : {}\".format(len(training_images_path)))\n",
    "\n",
    "\n",
    "training_images_name = [os.path.basename(image)  for image in training_images_path ]\n",
    "\n",
    "training_images = pd.DataFrame(np.column_stack([training_images_path, training_images_name]), \n",
    "                               columns=['training_image_path', 'training_image_name'])\n",
    "\n",
    "train_keypoints = list()\n",
    "train_descriptors = list()\n",
    "errors = 0\n",
    "t1 = time.time()\n",
    "for index,row in training_images.iterrows():\n",
    "    image = cv2.imread(row['training_image_path'],1)\n",
    "    # Convert the training image to RGB\n",
    "    training_image = cv2.cvtColor(image, cv2.COLOR_BGR2RGB)\n",
    "   \n",
    "    # Convert the training image to gray Scale\n",
    "    training_image = cv2.cvtColor(image, cv2.COLOR_BGR2GRAY)\n",
    "        \n",
    "    \n",
    "    # Find the keypoints in the gray scale training and query images and compute their ORB descriptor.\n",
    "    # The None parameter is needed to indicate that we are not using a mask in either case.  \n",
    "    keypoints_train, descriptors_train = orb.detectAndCompute(training_image, None)\n",
    "    train_keypoints.append(keypoints_train)\n",
    "    train_descriptors.append(descriptors_train)\n",
    "    \n",
    "    \n",
    "    \n",
    "    # Print the number of keypoints detected\n",
    "    #print(\"\\nNumber of keypoints Query Detected: \", len(keypoints_train))\n",
    "t2 = time.time()\n",
    "training_images['keypoints_train'] = train_keypoints\n",
    "training_images['descriptors_train'] = train_descriptors\n",
    "#print(training_images.head())\n",
    "print(\"Trainging images Dataframe Shape : {}\".format(training_images.shape))\n",
    "print(\"Time taken to build Training Image : {}\".format(t2-t1))"
   ]
  },
  {
   "cell_type": "code",
   "execution_count": 19,
   "metadata": {},
   "outputs": [],
   "source": [
    "log_message('Trainging images Dataframe Shape : {}'.format(\n",
    "  training_images.shape))\n",
    "log_message('Time taken to build Training Image : {}'.format(t2 - t1))\n"
   ]
  },
  {
   "cell_type": "code",
   "execution_count": 20,
   "metadata": {},
   "outputs": [
    {
     "name": "stdout",
     "output_type": "stream",
     "text": [
      "Length of Training Images : 0\n",
      "Query images Dataframe Shape : (0, 2)\n"
     ]
    }
   ],
   "source": [
    "query_images_path = glob.glob('./image/**/*.*',recursive=True)\n",
    "print(\"Length of Query Images : {}\".format(len(query_images_path)))\n",
    "query_images_name = [os.path.basename(image)  for image in query_images_path ]\n",
    "\n",
    "\n",
    "query_images = pd.DataFrame(np.column_stack([query_images_path, query_images_name]), \n",
    "                               columns=['query_image_path', 'query_images_name'])\n",
    "print(\"Query images Dataframe Shape : {}\".format(query_images.shape))\n",
    "\n"
   ]
  },
  {
   "cell_type": "code",
   "execution_count": 21,
   "metadata": {},
   "outputs": [],
   "source": [
    "log_message(\"Length of Training Images : {}\".format(len(query_images_path)))\n",
    "log_message(\"Query images Dataframe Shape : {}\".format(query_images.shape))"
   ]
  },
  {
   "cell_type": "code",
   "execution_count": 22,
   "metadata": {},
   "outputs": [
    {
     "name": "stdout",
     "output_type": "stream",
     "text": [
      "Errors :  0\n",
      "Time taken to build Query Image : 0.0005776882171630859\n",
      "Query images Dataframe Shape : (0, 5)\n"
     ]
    }
   ],
   "source": [
    "query_image_path = list()\n",
    "query_image_name = list()\n",
    "query_keypoints = list()\n",
    "query_descriptors = list()\n",
    "query_faces = list()\n",
    "errors = 0\n",
    "count = 0\n",
    "t1 = time.time()\n",
    "for index,row in query_images.iterrows():\n",
    "    count+=1\n",
    "    if count > 10:\n",
    "        print('Count : ',count)\n",
    "        break\n",
    "    image = cv2.imread(row['query_image_path'])\n",
    "    # Convert the training image to RGB\n",
    "    try:\n",
    "        query_image_colour = cv2.cvtColor(image, cv2.COLOR_BGR2RGB)\n",
    "   \n",
    "        # Convert the training image to gray Scale\n",
    "        query_image = cv2.cvtColor(query_image_colour, cv2.COLOR_BGR2GRAY)\n",
    "        \n",
    "        # run the detector\n",
    "        # the output here is an array of detections; the corners of each detection box\n",
    "        # if necessary, modify these parameters until you successfully identify every face in a given image\n",
    "        faces = face_cascade.detectMultiScale(query_image_colour, 1.4, 5)\n",
    "        if type(faces) is not tuple:\n",
    "            query_faces.append(True)\n",
    "        else:\n",
    "            query_faces.append(False)\n",
    "            \n",
    "            \n",
    "        \n",
    "        # Find the keypoints in the gray scale training and query images and compute their ORB descriptor.\n",
    "        # The None parameter is needed to indicate that we are not using a mask in either case.  \n",
    "        keypoints_query, descriptors_query = orb.detectAndCompute(query_image, None)\n",
    "        query_image_path.append(row['query_image_path'])\n",
    "        query_image_name.append(row['query_images_name'])\n",
    "        query_keypoints.append(keypoints_query)\n",
    "        query_descriptors.append(descriptors_query)\n",
    "    except :\n",
    "        #print(row)\n",
    "        errors+=1\n",
    "    \n",
    "    \n",
    "    # Print the number of keypoints detected\n",
    "    #print(\"\\nNumber of keypoints Query Detected: \", len(keypoints_train))\n",
    "print('Errors : ',errors)\n",
    "t2 = time.time()\n",
    "print(\"Time taken to build Query Image : {}\".format(t2-t1))\n",
    "query_images = pd.DataFrame(np.column_stack([query_image_path, query_image_name,query_faces,query_keypoints,query_descriptors]), \n",
    "                               columns=['query_image_path', 'query_images_name','query_faces','keypoints_query','descriptors_query'])\n",
    "\n",
    "#print(training_images.head())\n",
    "print(\"Query images Dataframe Shape : {}\".format(query_images.shape))\n"
   ]
  },
  {
   "cell_type": "code",
   "execution_count": 8,
   "metadata": {},
   "outputs": [],
   "source": [
    "log_message('Errors : {}'.format(errors))\n",
    "log_message(\"Time taken to build Query Image : {}\".format(t2 - t1))\n",
    "log_message(\"Query images Dataframe Shape : {}\".format(query_images.shape))"
   ]
  },
  {
   "cell_type": "code",
   "execution_count": 9,
   "metadata": {},
   "outputs": [],
   "source": [
    "query_images['keypoints_count'] = query_images['keypoints_query'].map(len)\n",
    "query_images = query_images[query_images.keypoints_count != 0]"
   ]
  },
  {
   "cell_type": "code",
   "execution_count": 10,
   "metadata": {},
   "outputs": [
    {
     "name": "stdout",
     "output_type": "stream",
     "text": [
      "Time taken to to Brute Force the Image : 0.0005605220794677734\n"
     ]
    }
   ],
   "source": [
    "query_match_scores = list()\n",
    "t1 = time.time()\n",
    "for q_index,q_row in query_images.iterrows():\n",
    "    match_scores = list()\n",
    "    training_counter =0 \n",
    "    \n",
    "    for t_index,t_row in training_images.iterrows():\n",
    "        try :\n",
    "            matches = bf.match(t_row['descriptors_train'], q_row['descriptors_query'])\n",
    "            training_counter+=1\n",
    "            match_scores.append(matches)\n",
    "        except:\n",
    "            match_scores.append(list())\n",
    "            continue\n",
    "    \n",
    "    query_match_scores.append(match_scores)\n",
    "t2 = time.time()\n",
    "print(\"Time taken to to Brute Force the Image : {}\".format(t2-t1))\n",
    "log_message(\"Time taken to to Brute Force the Image : {}\".format(t2 - t1))"
   ]
  },
  {
   "cell_type": "code",
   "execution_count": 11,
   "metadata": {},
   "outputs": [],
   "source": [
    "query_images['matched'] = query_match_scores"
   ]
  },
  {
   "cell_type": "code",
   "execution_count": 12,
   "metadata": {},
   "outputs": [],
   "source": [
    "def get_matchpoint(value):\n",
    "    value = map(len,value)\n",
    "    max_value = max(value)    \n",
    "    return max_value"
   ]
  },
  {
   "cell_type": "code",
   "execution_count": 13,
   "metadata": {},
   "outputs": [],
   "source": [
    "query_images['max_matches'] = query_images['matched'].map(get_matchpoint)"
   ]
  },
  {
   "cell_type": "code",
   "execution_count": 14,
   "metadata": {},
   "outputs": [
    {
     "data": {
      "text/html": [
       "<div>\n",
       "<style scoped>\n",
       "    .dataframe tbody tr th:only-of-type {\n",
       "        vertical-align: middle;\n",
       "    }\n",
       "\n",
       "    .dataframe tbody tr th {\n",
       "        vertical-align: top;\n",
       "    }\n",
       "\n",
       "    .dataframe thead th {\n",
       "        text-align: right;\n",
       "    }\n",
       "</style>\n",
       "<table border=\"1\" class=\"dataframe\">\n",
       "  <thead>\n",
       "    <tr style=\"text-align: right;\">\n",
       "      <th></th>\n",
       "      <th>query_image_path</th>\n",
       "      <th>query_images_name</th>\n",
       "      <th>query_faces</th>\n",
       "      <th>keypoints_query</th>\n",
       "      <th>descriptors_query</th>\n",
       "      <th>keypoints_count</th>\n",
       "      <th>matched</th>\n",
       "      <th>max_matches</th>\n",
       "    </tr>\n",
       "  </thead>\n",
       "  <tbody>\n",
       "  </tbody>\n",
       "</table>\n",
       "</div>"
      ],
      "text/plain": [
       "Empty DataFrame\n",
       "Columns: [query_image_path, query_images_name, query_faces, keypoints_query, descriptors_query, keypoints_count, matched, max_matches]\n",
       "Index: []"
      ]
     },
     "execution_count": 14,
     "metadata": {},
     "output_type": "execute_result"
    }
   ],
   "source": [
    "query_images.head()"
   ]
  },
  {
   "cell_type": "code",
   "execution_count": 15,
   "metadata": {},
   "outputs": [],
   "source": [
    "count = 0 \n",
    "for _,row in query_images.iterrows():\n",
    "    if row['keypoints_count'] > 0:\n",
    "        ratio  = row['max_matches']/row['keypoints_count']\n",
    "        if ratio > 0.35 and row['query_faces']:\n",
    "            shutil.copy(row['query_image_path'],'./managers_haar_1/true/')\n",
    "        elif ratio > 0.25 and row['query_faces']:\n",
    "            shutil.copy(row['query_image_path'],'./managers_haar_1/may_be/')\n",
    "        else :\n",
    "            shutil.copy(row['query_image_path'],'./managers_haar_1/false/')\n",
    "    else :\n",
    "        shutil.copy(row['query_image_path'],'./managers_haar_1/false/')   \n",
    "        count+=1"
   ]
  },
  {
   "cell_type": "code",
   "execution_count": null,
   "metadata": {},
   "outputs": [],
   "source": []
  }
 ],
 "metadata": {
  "kernelspec": {
   "display_name": "Python 3",
   "language": "python",
   "name": "python3"
  },
  "language_info": {
   "codemirror_mode": {
    "name": "ipython",
    "version": 3
   },
   "file_extension": ".py",
   "mimetype": "text/x-python",
   "name": "python",
   "nbconvert_exporter": "python",
   "pygments_lexer": "ipython3",
   "version": "3.5.1"
  }
 },
 "nbformat": 4,
 "nbformat_minor": 2
}
