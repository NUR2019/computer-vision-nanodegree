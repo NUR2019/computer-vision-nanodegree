{
 "cells": [
  {
   "cell_type": "code",
   "execution_count": 4,
   "metadata": {},
   "outputs": [],
   "source": [
    "import pandas as pd\n",
    "\n",
    "\n",
    "def encoding_detector(file_path):\n",
    "    \"\"\"\n",
    "    This Function is using chardat library to detect the encoding of a file\n",
    "    Args:\n",
    "        file_path (str): path to specific file\n",
    "    Returns:\n",
    "        return encoding of file\n",
    "    \"\"\"\n",
    "    try:\n",
    "        return chardet.detect(read_file(file_path, read_opts='rb'))['encoding']\n",
    "    except:\n",
    "        return 'utf-8'\n"
   ]
  },
  {
   "cell_type": "code",
   "execution_count": 27,
   "metadata": {},
   "outputs": [],
   "source": [
    "input_query_csv_file = '/datadrive2/ds/A2im-DataScience/data_preparation/query_doc/data.csv'"
   ]
  },
  {
   "cell_type": "code",
   "execution_count": 30,
   "metadata": {},
   "outputs": [
    {
     "name": "stdout",
     "output_type": "stream",
     "text": [
      "60\n"
     ]
    }
   ],
   "source": [
    "reader = pd.read_csv(input_query_csv_file, header=None, error_bad_lines=False, \n",
    "                     encoding=encoding_detector(input_query_csv_file)).fillna('').values.tolist()\n",
    "print(len(reader))"
   ]
  },
  {
   "cell_type": "code",
   "execution_count": 35,
   "metadata": {},
   "outputs": [],
   "source": [
    "def refine_csv_input(query_list,max_number_of_queries):\n",
    "    dic_of_corpus={}\n",
    "    #Looping through each row\n",
    "    for i in query_list[1:]:\n",
    "        #print(i)\n",
    "        if i[0] not in dic_of_corpus.keys():\n",
    "            #print(i[0])\n",
    "            dic_of_corpus[i[0]]=[i]\n",
    "        else:\n",
    "            dic_of_corpus[i[0]].append(i)\n",
    "    #This is the header/column names\n",
    "    output=[query_list[0]]\n",
    "    # dic_of_corpus is scope : [list of rows with same scope]\n",
    "    for i in dic_of_corpus.keys():\n",
    "        for j in range(max_number_of_queries//len(dic_of_corpus.keys())):\n",
    "            try:\n",
    "                output.append(dic_of_corpus[i][j])\n",
    "            except:\n",
    "                print(\"breaking\")\n",
    "                break\n",
    "    return output"
   ]
  },
  {
   "cell_type": "code",
   "execution_count": 36,
   "metadata": {},
   "outputs": [
    {
     "name": "stdout",
     "output_type": "stream",
     "text": [
      "breaking\n"
     ]
    }
   ],
   "source": [
    "reader=refine_csv_input(reader,10000)"
   ]
  },
  {
   "cell_type": "code",
   "execution_count": 37,
   "metadata": {},
   "outputs": [
    {
     "data": {
      "text/plain": [
       "['edam--pdf', 'ira', '18104']"
      ]
     },
     "execution_count": 37,
     "metadata": {},
     "output_type": "execute_result"
    }
   ],
   "source": [
    "reader[2]"
   ]
  },
  {
   "cell_type": "code",
   "execution_count": 38,
   "metadata": {},
   "outputs": [
    {
     "name": "stdout",
     "output_type": "stream",
     "text": [
      "60\n"
     ]
    }
   ],
   "source": [
    "print(len(reader))"
   ]
  },
  {
   "cell_type": "code",
   "execution_count": null,
   "metadata": {},
   "outputs": [],
   "source": []
  }
 ],
 "metadata": {
  "kernelspec": {
   "display_name": "Python 3",
   "language": "python",
   "name": "python3"
  },
  "language_info": {
   "codemirror_mode": {
    "name": "ipython",
    "version": 3
   },
   "file_extension": ".py",
   "mimetype": "text/x-python",
   "name": "python",
   "nbconvert_exporter": "python",
   "pygments_lexer": "ipython3",
   "version": "3.5.1"
  }
 },
 "nbformat": 4,
 "nbformat_minor": 2
}
